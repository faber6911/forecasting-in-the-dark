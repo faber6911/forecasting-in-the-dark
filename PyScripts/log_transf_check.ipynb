{
 "cells": [
  {
   "cell_type": "code",
   "execution_count": 70,
   "metadata": {},
   "outputs": [],
   "source": [
    "with open(\"dumps/q_t_list_2015_2016.pickle\", \"rb\") as infile:\n",
    "    q_t_list=pickle.load(infile)"
   ]
  },
  {
   "cell_type": "code",
   "execution_count": 71,
   "metadata": {},
   "outputs": [
    {
     "data": {
      "text/plain": [
       "14160"
      ]
     },
     "execution_count": 71,
     "metadata": {},
     "output_type": "execute_result"
    }
   ],
   "source": [
    "len(q_t_list)"
   ]
  },
  {
   "cell_type": "code",
   "execution_count": 73,
   "metadata": {},
   "outputs": [
    {
     "data": {
      "text/plain": [
       "51"
      ]
     },
     "execution_count": 73,
     "metadata": {},
     "output_type": "execute_result"
    }
   ],
   "source": [
    "np.max(q_t_list[0][50])\n",
    "\n",
    "len(q_t_list[0])"
   ]
  },
  {
   "cell_type": "code",
   "execution_count": 74,
   "metadata": {},
   "outputs": [
    {
     "data": {
      "text/plain": [
       "25448.550000000003"
      ]
     },
     "execution_count": 74,
     "metadata": {},
     "output_type": "execute_result"
    }
   ],
   "source": [
    "Sup[0][50]"
   ]
  },
  {
   "cell_type": "code",
   "execution_count": 75,
   "metadata": {},
   "outputs": [],
   "source": [
    "import math"
   ]
  },
  {
   "cell_type": "code",
   "execution_count": 76,
   "metadata": {},
   "outputs": [],
   "source": [
    "def make_S(q,count, c=1):\n",
    "    S=[]\n",
    "    S.append(math.exp(q[0]))\n",
    "    for i in range(1,len(q)):\n",
    "        try:\n",
    "            S.append(math.exp(q[i])+S[i-1]-c)\n",
    "        except:\n",
    "            print(count, i,q[i], S[i-1])\n",
    "    return S"
   ]
  },
  {
   "cell_type": "code",
   "execution_count": 77,
   "metadata": {},
   "outputs": [],
   "source": [
    "S_list=[make_S(q, count) for count,q in enumerate(q_t_list)]"
   ]
  },
  {
   "cell_type": "code",
   "execution_count": 78,
   "metadata": {},
   "outputs": [
    {
     "data": {
      "text/plain": [
       "51"
      ]
     },
     "execution_count": 78,
     "metadata": {},
     "output_type": "execute_result"
    }
   ],
   "source": [
    "len(S_list[1])"
   ]
  },
  {
   "cell_type": "code",
   "execution_count": 79,
   "metadata": {},
   "outputs": [],
   "source": [
    "with open(\"dumps/SupplyList_2015_2016.pickle\", \"rb\") as infile:\n",
    "    Sup=pickle.load(infile)"
   ]
  },
  {
   "cell_type": "code",
   "execution_count": 80,
   "metadata": {},
   "outputs": [
    {
     "data": {
      "text/plain": [
       "51"
      ]
     },
     "execution_count": 80,
     "metadata": {},
     "output_type": "execute_result"
    }
   ],
   "source": [
    "S_real=Sup[0]\n",
    "S_trasf=S_list[0]\n",
    "len(S_trasf)"
   ]
  },
  {
   "cell_type": "code",
   "execution_count": 81,
   "metadata": {},
   "outputs": [
    {
     "name": "stdout",
     "output_type": "stream",
     "text": [
      "-1.8189894035458565e-11\n",
      "-1.8189894035458565e-11\n",
      "-1.8189894035458565e-11\n",
      "-1.8189894035458565e-11\n",
      "-1.8189894035458565e-11\n",
      "-1.8189894035458565e-11\n",
      "-1.8189894035458565e-11\n",
      "-1.8189894035458565e-11\n",
      "-1.8189894035458565e-11\n",
      "-1.8189894035458565e-11\n",
      "-1.8189894035458565e-11\n",
      "-1.8189894035458565e-11\n",
      "-1.8189894035458565e-11\n",
      "-1.8189894035458565e-11\n",
      "-1.8189894035458565e-11\n",
      "-1.8189894035458565e-11\n",
      "-1.8189894035458565e-11\n",
      "-1.8189894035458565e-11\n",
      "-1.8189894035458565e-11\n",
      "-1.8189894035458565e-11\n",
      "-1.8189894035458565e-11\n",
      "-1.8189894035458565e-11\n",
      "-1.8189894035458565e-11\n",
      "-1.8189894035458565e-11\n",
      "-1.8189894035458565e-11\n",
      "-1.8189894035458565e-11\n",
      "-1.8189894035458565e-11\n",
      "-1.8189894035458565e-11\n",
      "-1.8189894035458565e-11\n",
      "-1.8189894035458565e-11\n",
      "-1.8189894035458565e-11\n",
      "-1.8189894035458565e-11\n",
      "-1.8189894035458565e-11\n",
      "-1.8189894035458565e-11\n",
      "-1.8189894035458565e-11\n",
      "-1.8189894035458565e-11\n",
      "-1.8189894035458565e-11\n",
      "-1.8189894035458565e-11\n",
      "-1.8189894035458565e-11\n",
      "-1.8189894035458565e-11\n",
      "-1.8189894035458565e-11\n",
      "-1.8189894035458565e-11\n",
      "-1.8189894035458565e-11\n",
      "-1.8189894035458565e-11\n",
      "-1.8189894035458565e-11\n",
      "-1.8189894035458565e-11\n",
      "-1.8189894035458565e-11\n",
      "-1.8189894035458565e-11\n",
      "-1.8189894035458565e-11\n",
      "-1.8189894035458565e-11\n",
      "-1.8189894035458565e-11\n"
     ]
    },
    {
     "data": {
      "text/plain": [
       "[None,\n",
       " None,\n",
       " None,\n",
       " None,\n",
       " None,\n",
       " None,\n",
       " None,\n",
       " None,\n",
       " None,\n",
       " None,\n",
       " None,\n",
       " None,\n",
       " None,\n",
       " None,\n",
       " None,\n",
       " None,\n",
       " None,\n",
       " None,\n",
       " None,\n",
       " None,\n",
       " None,\n",
       " None,\n",
       " None,\n",
       " None,\n",
       " None,\n",
       " None,\n",
       " None,\n",
       " None,\n",
       " None,\n",
       " None,\n",
       " None,\n",
       " None,\n",
       " None,\n",
       " None,\n",
       " None,\n",
       " None,\n",
       " None,\n",
       " None,\n",
       " None,\n",
       " None,\n",
       " None,\n",
       " None,\n",
       " None,\n",
       " None,\n",
       " None,\n",
       " None,\n",
       " None,\n",
       " None,\n",
       " None,\n",
       " None,\n",
       " None]"
      ]
     },
     "execution_count": 81,
     "metadata": {},
     "output_type": "execute_result"
    }
   ],
   "source": [
    "[print(S_real[i]-S_trasf[i]) for i in range(len(S_real))]"
   ]
  },
  {
   "cell_type": "code",
   "execution_count": null,
   "metadata": {},
   "outputs": [],
   "source": []
  }
 ],
 "metadata": {
  "kernelspec": {
   "display_name": "Python 3",
   "language": "python",
   "name": "python3"
  },
  "language_info": {
   "codemirror_mode": {
    "name": "ipython",
    "version": 3
   },
   "file_extension": ".py",
   "mimetype": "text/x-python",
   "name": "python",
   "nbconvert_exporter": "python",
   "pygments_lexer": "ipython3",
   "version": "3.6.8"
  }
 },
 "nbformat": 4,
 "nbformat_minor": 2
}
