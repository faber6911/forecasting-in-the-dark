{
 "cells": [
  {
   "cell_type": "code",
   "execution_count": 1,
   "metadata": {},
   "outputs": [],
   "source": [
    "import pandas as pd"
   ]
  },
  {
   "cell_type": "code",
   "execution_count": 2,
   "metadata": {},
   "outputs": [],
   "source": [
    "#not enough memory \n",
    "\n",
    "#df_tot=pd.concat([pd.read_csv(\"../data/final_dataset_vm_dario.csv\"),pd.read_csv(\"../data/final_dataset_vm_max.csv\"),  pd.read_csv(\"../data/final_dataset_vm_fabri.csv\")])"
   ]
  },
  {
   "cell_type": "code",
   "execution_count": 3,
   "metadata": {
    "hidePrompt": false
   },
   "outputs": [],
   "source": [
    "#concat with bash (combine_data.sh), remove some variables (remove_columns.sh) then read "
   ]
  },
  {
   "cell_type": "code",
   "execution_count": 4,
   "metadata": {},
   "outputs": [],
   "source": [
    "df=pd.read_csv(\"../data/final.csv\")"
   ]
  },
  {
   "cell_type": "code",
   "execution_count": 5,
   "metadata": {},
   "outputs": [
    {
     "name": "stdout",
     "output_type": "stream",
     "text": [
      "2036  vs 54625144\n"
     ]
    }
   ],
   "source": [
    " #just testing\n",
    "#print(len(df[df[\"STATUS_CD\"]!=\"ACC\"]), \" vs\", len(df))\n"
   ]
  },
  {
   "cell_type": "code",
   "execution_count": 5,
   "metadata": {},
   "outputs": [
    {
     "data": {
      "text/html": [
       "<div>\n",
       "<style scoped>\n",
       "    .dataframe tbody tr th:only-of-type {\n",
       "        vertical-align: middle;\n",
       "    }\n",
       "\n",
       "    .dataframe tbody tr th {\n",
       "        vertical-align: top;\n",
       "    }\n",
       "\n",
       "    .dataframe thead th {\n",
       "        text-align: right;\n",
       "    }\n",
       "</style>\n",
       "<table border=\"1\" class=\"dataframe\">\n",
       "  <thead>\n",
       "    <tr style=\"text-align: right;\">\n",
       "      <th></th>\n",
       "      <th>PURPOSE_CD</th>\n",
       "      <th>INTERVAL_NO</th>\n",
       "      <th>BID_OFFER_DATE_DT</th>\n",
       "      <th>QUANTITY_NO</th>\n",
       "      <th>AWARDED_QUANTITY_NO</th>\n",
       "      <th>ENERGY_PRICE_NO</th>\n",
       "      <th>MERIT_ORDER_NO</th>\n",
       "      <th>PARTIAL_QTY_ACCEPTED_IN</th>\n",
       "      <th>ZONE_CD</th>\n",
       "      <th>AWARDED_PRICE_NO</th>\n",
       "      <th>OPERATORE</th>\n",
       "    </tr>\n",
       "  </thead>\n",
       "  <tbody>\n",
       "    <tr>\n",
       "      <th>0</th>\n",
       "      <td>BID</td>\n",
       "      <td>1</td>\n",
       "      <td>20150515</td>\n",
       "      <td>12.611</td>\n",
       "      <td>12.611</td>\n",
       "      <td>0.0</td>\n",
       "      <td>538.0</td>\n",
       "      <td>N</td>\n",
       "      <td>CNOR</td>\n",
       "      <td>43.73</td>\n",
       "      <td>Bilateralista</td>\n",
       "    </tr>\n",
       "    <tr>\n",
       "      <th>1</th>\n",
       "      <td>BID</td>\n",
       "      <td>2</td>\n",
       "      <td>20150515</td>\n",
       "      <td>12.528</td>\n",
       "      <td>12.528</td>\n",
       "      <td>0.0</td>\n",
       "      <td>538.0</td>\n",
       "      <td>N</td>\n",
       "      <td>CNOR</td>\n",
       "      <td>40.00</td>\n",
       "      <td>Bilateralista</td>\n",
       "    </tr>\n",
       "    <tr>\n",
       "      <th>2</th>\n",
       "      <td>BID</td>\n",
       "      <td>3</td>\n",
       "      <td>20150515</td>\n",
       "      <td>12.447</td>\n",
       "      <td>12.447</td>\n",
       "      <td>0.0</td>\n",
       "      <td>541.0</td>\n",
       "      <td>N</td>\n",
       "      <td>CNOR</td>\n",
       "      <td>32.70</td>\n",
       "      <td>Bilateralista</td>\n",
       "    </tr>\n",
       "    <tr>\n",
       "      <th>3</th>\n",
       "      <td>BID</td>\n",
       "      <td>4</td>\n",
       "      <td>20150515</td>\n",
       "      <td>12.463</td>\n",
       "      <td>12.463</td>\n",
       "      <td>0.0</td>\n",
       "      <td>539.0</td>\n",
       "      <td>N</td>\n",
       "      <td>CNOR</td>\n",
       "      <td>34.68</td>\n",
       "      <td>Bilateralista</td>\n",
       "    </tr>\n",
       "    <tr>\n",
       "      <th>4</th>\n",
       "      <td>BID</td>\n",
       "      <td>5</td>\n",
       "      <td>20150515</td>\n",
       "      <td>2.325</td>\n",
       "      <td>2.325</td>\n",
       "      <td>0.0</td>\n",
       "      <td>541.0</td>\n",
       "      <td>N</td>\n",
       "      <td>CNOR</td>\n",
       "      <td>34.61</td>\n",
       "      <td>Bilateralista</td>\n",
       "    </tr>\n",
       "  </tbody>\n",
       "</table>\n",
       "</div>"
      ],
      "text/plain": [
       "  PURPOSE_CD  INTERVAL_NO  BID_OFFER_DATE_DT  QUANTITY_NO  \\\n",
       "0        BID            1           20150515       12.611   \n",
       "1        BID            2           20150515       12.528   \n",
       "2        BID            3           20150515       12.447   \n",
       "3        BID            4           20150515       12.463   \n",
       "4        BID            5           20150515        2.325   \n",
       "\n",
       "   AWARDED_QUANTITY_NO  ENERGY_PRICE_NO  MERIT_ORDER_NO  \\\n",
       "0               12.611              0.0           538.0   \n",
       "1               12.528              0.0           538.0   \n",
       "2               12.447              0.0           541.0   \n",
       "3               12.463              0.0           539.0   \n",
       "4                2.325              0.0           541.0   \n",
       "\n",
       "  PARTIAL_QTY_ACCEPTED_IN ZONE_CD  AWARDED_PRICE_NO      OPERATORE  \n",
       "0                       N    CNOR             43.73  Bilateralista  \n",
       "1                       N    CNOR             40.00  Bilateralista  \n",
       "2                       N    CNOR             32.70  Bilateralista  \n",
       "3                       N    CNOR             34.68  Bilateralista  \n",
       "4                       N    CNOR             34.61  Bilateralista  "
      ]
     },
     "execution_count": 5,
     "metadata": {},
     "output_type": "execute_result"
    }
   ],
   "source": [
    "df.head()"
   ]
  },
  {
   "cell_type": "code",
   "execution_count": null,
   "metadata": {},
   "outputs": [],
   "source": []
  }
 ],
 "metadata": {
  "kernelspec": {
   "display_name": "Python 3",
   "language": "python",
   "name": "python3"
  },
  "language_info": {
   "codemirror_mode": {
    "name": "ipython",
    "version": 3
   },
   "file_extension": ".py",
   "mimetype": "text/x-python",
   "name": "python",
   "nbconvert_exporter": "python",
   "pygments_lexer": "ipython3",
   "version": "3.6.8"
  }
 },
 "nbformat": 4,
 "nbformat_minor": 2
}
